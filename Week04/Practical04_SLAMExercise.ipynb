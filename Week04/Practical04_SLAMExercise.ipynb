{
 "cells": [
  {
   "cell_type": "code",
   "execution_count": 1,
   "metadata": {},
   "outputs": [],
   "source": [
    "# Import all the dependencies\n",
    "%matplotlib notebook\n",
    "import matplotlib.pyplot as plt\n",
    "import matplotlib.animation as animation\n",
    "from matplotlib.lines import Line2D\n",
    "from matplotlib.patches import Patch\n",
    "import numpy as np\n",
    "import pickle\n",
    "import ipywidgets as widgets\n",
    "from scipy.stats import norm\n",
    "import time\n",
    "\n",
    "import sys\n",
    "import os\n",
    "sys.path.insert(0, os.path.abspath('Support'))\n",
    "\n",
    "from Robot_SLAM import *\n",
    "from Measurements import *\n",
    "from Renderer_SLAM import *"
   ]
  },
  {
   "cell_type": "code",
   "execution_count": 2,
   "metadata": {},
   "outputs": [
    {
     "data": {
      "text/html": [
       "<style>.container { width:100% !important; }</style>"
      ],
      "text/plain": [
       "<IPython.core.display.HTML object>"
      ]
     },
     "metadata": {},
     "output_type": "display_data"
    }
   ],
   "source": [
    "from IPython.core.display import display, HTML\n",
    "display(HTML(\"<style>.container { width:100% !important; }</style>\"))"
   ]
  },
  {
   "cell_type": "markdown",
   "metadata": {},
   "source": [
    "# Coding Exercise: SLAM EKF (6 points)\n",
    "\n",
    "Given the EKF implementation covered during the lecture, you are asked to extend it so to account for an unknown environment.\n",
    "\n",
    "To do so, four main changes are necessary:\n",
    "\n",
    "1. Add the marker position to the state vector $\\boldsymbol{x}_\\text{SLAM}$\n",
    "2. Update the model and its corresponding covariance\n",
    "3. Update the measurementw covariance\n",
    "4. Adapt the prediction and update states to take into account for the new definition of the state $\\boldsymbol{x}_\\text{SLAM}$\n",
    "\n",
    "To complete this exercise, we provide you with a base SLAM class in which the logic of the following methods is missing (each method correspons to one of the main changes listed above):\n",
    "\n",
    "- ``add_landmark(.)``, this method adds the position of a new marker to the robot's state. Please keep in mind that markers are sensed in the world frame and should be transformed into the world frame\n",
    "- ``state_transition(.)``, using a new control input, this method determines the robot's new state, and computes and returns $A$\n",
    "- ``predict_covariance(.)``, using a new control input, this method computes and returns $\\Sigma_Q$\n",
    "- ``predict(.)`` and ``update(.)``, these are the main steps of our SLAM-EKF. \n",
    "  - In ``predict(.)``, make sure to compute the new robot's state given the control input recived as parameter. This method must update our robot's uncertainty ``self.P`` (please keep in mind that P = $\\Sigma_t)$.\n",
    "  - In ``update(.)``, make sure to use and update the extended state representation $\\boldsymbol{x}_\\text{SLAM}$. This method must also update our robot's uncertainty ``self.P`` (please keep in mind that P = $\\Sigma_t$).\n"
   ]
  },
  {
   "cell_type": "markdown",
   "metadata": {},
   "source": [
    "## SLAM base classs"
   ]
  },
  {
   "cell_type": "code",
   "execution_count": 6,
   "metadata": {},
   "outputs": [],
   "source": [
    "class Slam:\n",
    "    # Implementation of an EKF for SLAM\n",
    "    # The state is ordered as [x; y; theta; l1x; l1y; ...; lnx; lny]\n",
    "\n",
    "    # Utility\n",
    "    # -------\n",
    "\n",
    "    def __init__(self, robot):\n",
    "        # State components\n",
    "        self.robot = robot\n",
    "        self.markers = np.zeros((2,0))\n",
    "        self.taglist = []\n",
    "\n",
    "        # Covariance matrix\n",
    "        self.P = np.eye(3)*0.5\n",
    "        self.init_lm_cov = 1e1\n",
    "\n",
    "    def number_landmarks(self):\n",
    "        return int(self.markers.shape[1])\n",
    "\n",
    "    def get_state_vector(self):\n",
    "        state = np.concatenate((self.robot.get_state(), \n",
    "                                np.reshape(self.markers, (-1,1), order='F')), axis=0)\n",
    "        return state\n",
    "    \n",
    "    def set_state_vector(self, state):\n",
    "        x, y, theta = state[0:3,:]\n",
    "        self.robot.set_state(x, y, theta)\n",
    "        self.markers = np.reshape(state[3:,:], (2,-1), order='F')\n",
    "        \n",
    "    \n",
    "    # EKF functions\n",
    "    # -------------\n",
    "\n",
    "    def predict(self, raw_drive_meas):\n",
    "        # The prediction step of EKF\n",
    "        #---------------------- TODO 4----------------\n",
    "\n",
    "        #----------------------------------------------\n",
    "        \n",
    "    def update(self, measurements):\n",
    "        if not measurements:\n",
    "            return\n",
    "\n",
    "        # Construct measurement index list\n",
    "        tags = [lm.tag for lm in measurements]\n",
    "        idx_list = [self.taglist.index(tag) for tag in tags]\n",
    "\n",
    "        # Stack measurements and set covariance\n",
    "        z = np.concatenate([lm.position.reshape(-1,1) for lm in measurements], axis=0)\n",
    "        R = np.zeros((2*len(measurements),2*len(measurements)))\n",
    "        for i in range(len(measurements)):\n",
    "            R[2*i:2*i+2,2*i:2*i+2] = measurements[i].covariance\n",
    "\n",
    "        # Update measurements\n",
    "        z_hat = self.robot.measure(self.markers, idx_list)\n",
    "        z_hat = z_hat.reshape((-1,1),order=\"F\")\n",
    "        #-------------------- TODO 5----------------------\n",
    "\n",
    "        #-------------------- TODO 5----------------------\n",
    "\n",
    "\n",
    "    def state_transition(self, raw_drive_meas):\n",
    "        #--------------- TODO 2----------------------\n",
    "        # Recall that the state of each marker is represented by a 2D vector and the state of the robot is 3-dimensional\n",
    "        pass\n",
    "        #---------------------------------------------\n",
    "    \n",
    "    def predict_covariance(self, raw_drive_meas):\n",
    "        #--------------- TODO 3----------------------\n",
    "        # Recall that the state of each marker is represented by a 2D vector and the state of the robot is 3-dimensional\n",
    "pass\n",
    "        #--------------------------------------------\n",
    "        \n",
    "    def add_landmarks(self, measurements):\n",
    "        if not measurements:\n",
    "            return\n",
    "\n",
    "        th = self.robot.theta\n",
    "        robot_xy = self.robot.get_state()[0:2,:]\n",
    "        R_theta = np.block([[np.cos(th), -np.sin(th)],[np.sin(th), np.cos(th)]])\n",
    "\n",
    "        # Add new landmarks to the state\n",
    "        for lm in measurements:\n",
    "            if lm.tag in self.taglist:\n",
    "                # ignore known tags\n",
    "                continue\n",
    "            \n",
    "            # ---------------------- TODO 1 -----------------------\n",
    "            # Obtain the coordinates of the any new marker in world frame and added to\n",
    "            # the variable self.markers\n",
    "            \n",
    "            # -------------------------------------------------------\n",
    "\n",
    "            # Create a simple, large covariance to be fixed by the update step\n",
    "            self.P = np.concatenate((self.P, np.zeros((2, self.P.shape[1]))), axis=0)\n",
    "            self.P = np.concatenate((self.P, np.zeros((self.P.shape[0], 2))), axis=1)\n",
    "            self.P[-2,-2] = self.init_lm_cov**2\n",
    "            self.P[-1,-1] = self.init_lm_cov**2\n",
    "\n",
    "    # Plotting functions\n",
    "    # ------------------\n",
    "    def draw_slam_state(self, ax) -> None:\n",
    "        # Draw landmarks\n",
    "        if self.number_landmarks() > 0:\n",
    "            ax.plot(self.markers[0,:], self.markers[1,:], 'ko')\n",
    "\n",
    "        # Draw robot\n",
    "        arrow_scale = 0.4\n",
    "        ax.arrow(self.robot.state[0,0], self.robot.state[1,0],\n",
    "                 arrow_scale * np.cos(self.robot.state[2,0]), arrow_scale * np.sin(self.robot.state[2,0]),\n",
    "                 head_width=0.3*arrow_scale)\n",
    "\n",
    "        # Draw covariance\n",
    "        robot_cov_ellipse = self.make_ellipse(self.robot.state[0:2,0], self.P[0:2,0:2])\n",
    "        ax.plot(robot_cov_ellipse[0,:], robot_cov_ellipse[1,:], 'r-')\n",
    "\n",
    "        for i in range(self.number_landmarks()):\n",
    "            lmi = self.markers[:,i]\n",
    "            Plmi = self.P[3+2*i:3+2*(i+1),3+2*i:3+2*(i+1)]\n",
    "            lmi_cov_ellipse = self.make_ellipse(lmi, Plmi)\n",
    "            ax.plot(lmi_cov_ellipse[0,:], lmi_cov_ellipse[1,:], 'b-')\n",
    "        \n",
    "        ax.axis('equal')\n",
    "        ax.set_xlim(-5+self.robot.state[0],5+self.robot.state[0])\n",
    "        ax.set_ylim(-5+self.robot.state[1],5+self.robot.state[1])\n",
    "\n",
    "    \n",
    "    @staticmethod\n",
    "    def make_ellipse(x, P):\n",
    "        p = 0.5\n",
    "        s = -2 * np.log(1 - p)\n",
    "        e_vals, e_vecs = np.linalg.eig(P * s)\n",
    "\n",
    "        t = np.linspace(0, 2 * np.pi)\n",
    "        ellipse = (e_vecs @ np.sqrt(np.diag(e_vals))) @ np.block([[np.cos(t)],[np.sin(t)]])\n",
    "        ellipse = ellipse + x.reshape(-1,1)\n",
    "\n",
    "        return ellipse"
   ]
  },
  {
   "cell_type": "markdown",
   "metadata": {},
   "source": [
    "## Test your Solution\n",
    "\n",
    "If your SLAM-EKF is implemented correctly, you should observe how the robot only uses the information of the markers that are directly visible in its camera. \n",
    "\n",
    "To know whether your solution is correct:\n",
    "- Watch the evolution of the state and marker error. When using the default ``sigma_drive`` and ``sigma_measure`` values provided below, you should observe that:\n",
    "    - Your state error is close to zero for both the $x$ and $y$ coordinates. \n",
    "    - Your marker error should be contained within the [1.0, 0.5] interval for both the $x$ and $y$ coordinates. \n",
    "- Take a look at video included in the Support folder (SLAM.mp4).\n",
    "\n",
    "\n",
    "**For grading**: \n",
    "- Please make sure that the run_slam function returns one np.array (no decimal rounding) and one list. The array must include your state estimates (``state`` variable) for each control input in the test file given as argument. The list includes your markers' estimates (``landmarks`` variable) for each measurement in the test file."
   ]
  },
  {
   "cell_type": "code",
   "execution_count": 7,
   "metadata": {
    "scrolled": true
   },
   "outputs": [],
   "source": [
    "def run_slam(file_path = \"Support/data/data_slam.dat\", initial_P = np.eye(3)*0.1, initial_sigma_drive=np.array([1,1]),\n",
    "            initial_sigma_measure=np.eye(2)*0.5, delta_time=0.2, render=False):\n",
    "\n",
    "\n",
    "    #Here we load our data including the true state \n",
    "    with open(file_path, \"rb\") as f:\n",
    "        data = pickle.load(f)\n",
    "\n",
    "    true_state = data['state']\n",
    "    control = data['control']\n",
    "    measurements = data['measurement']\n",
    "\n",
    "    #Now lets see how well slam does\n",
    "    #Create a robot and place it at the true starting position and orientation \n",
    "    bot = PenguinPi(0.14, 0.01)\n",
    "    # Set the initial state of the robot from the data\n",
    "    init_x, init_y, init_theta = true_state[0,:]\n",
    "    bot.set_state(x=init_x, y=init_y, theta=init_theta)\n",
    "\n",
    "    slammer = Slam(bot)\n",
    "\n",
    "    #----------------------------------------PARAMETERS----------------------------------\n",
    "    #\n",
    "    #Initial incertainty of our robot\n",
    "    slammer.P = initial_P\n",
    "    #Uncertainty in our left and right wheel motors\n",
    "    sigma_drive = initial_sigma_drive\n",
    "    #Uncertainty in measurement ~10cm\n",
    "    sigma_measure = initial_sigma_measure\n",
    "    #\n",
    "    #-------------------------------------------------------------------------------------\n",
    "\n",
    "    #Apply our control to the robot and visualize\n",
    "    #Our timestamp is always 0.2\n",
    "    dt = 0.2\n",
    "    #Here we will save our state variable \n",
    "    state = np.zeros((control.shape[0],3))\n",
    "    #Here we will save all of the landmarks added to our map\n",
    "    landmarks = []\n",
    "    #Here we save the robot covariances\n",
    "    robot_cov = np.zeros(((control.shape[0],3,3)))\n",
    "    #Here we save the marker covariances\n",
    "    marker_cov = []\n",
    "    for c in range(control.shape[0]):\n",
    "        #Set the measurement covariances\n",
    "        for mes in measurements[c]:\n",
    "            mes.covariance = sigma_measure \n",
    "\n",
    "        slammer.add_landmarks(measurements[c])\n",
    "        # Drive and predict\n",
    "        drive_signal = DriveMeasurement(control[c,0],control[c,1],dt,sigma_drive[0],sigma_drive[1])\n",
    "        slammer.predict(drive_signal)\n",
    "        slammer.update(measurements[c])\n",
    "\n",
    "        marker_cov.append(slammer.P[3:,3:])\n",
    "        state[c,:] = bot.get_state().flatten()\n",
    "        #print(\"Robot's state: true {}, predicted {}\".format(bot.get_state().flatten(), true_state[c,:]))\n",
    "        landmarks.append(slammer.markers)\n",
    "        robot_cov[c,:,:] = slammer.P[0:3,0:3]\n",
    "    \n",
    "    if render:\n",
    "        #Create a visualizer and visualize our atate\n",
    "        rend = Renderer.Instance()\n",
    "        rend.initialize(state, measurements, true_state = true_state,landmarks=landmarks,robot_cov=robot_cov,marker_cov=marker_cov,\n",
    "                        add_aruco=True)\n",
    "    \n",
    "    return state, landmarks"
   ]
  },
  {
   "cell_type": "markdown",
   "metadata": {},
   "source": [
    "### We call the test function"
   ]
  },
  {
   "cell_type": "code",
   "execution_count": 8,
   "metadata": {
    "scrolled": false
   },
   "outputs": [
    {
     "ename": "ValueError",
     "evalue": "0 is not in list",
     "output_type": "error",
     "traceback": [
      "\u001b[1;31m---------------------------------------------------------------------------\u001b[0m",
      "\u001b[1;31mValueError\u001b[0m                                Traceback (most recent call last)",
      "\u001b[1;32m<ipython-input-8-6f884df1c361>\u001b[0m in \u001b[0;36m<module>\u001b[1;34m\u001b[0m\n\u001b[1;32m----> 1\u001b[1;33m \u001b[0mprediction_state\u001b[0m\u001b[1;33m,\u001b[0m \u001b[0mprediction_markers\u001b[0m \u001b[1;33m=\u001b[0m \u001b[0mrun_slam\u001b[0m\u001b[1;33m(\u001b[0m\u001b[0mrender\u001b[0m\u001b[1;33m=\u001b[0m\u001b[1;32mTrue\u001b[0m\u001b[1;33m)\u001b[0m\u001b[1;33m\u001b[0m\u001b[1;33m\u001b[0m\u001b[0m\n\u001b[0m",
      "\u001b[1;32m<ipython-input-7-4661cf22f27a>\u001b[0m in \u001b[0;36mrun_slam\u001b[1;34m(file_path, initial_P, initial_sigma_drive, initial_sigma_measure, delta_time, render)\u001b[0m\n\u001b[0;32m     51\u001b[0m         \u001b[0mdrive_signal\u001b[0m \u001b[1;33m=\u001b[0m \u001b[0mDriveMeasurement\u001b[0m\u001b[1;33m(\u001b[0m\u001b[0mcontrol\u001b[0m\u001b[1;33m[\u001b[0m\u001b[0mc\u001b[0m\u001b[1;33m,\u001b[0m\u001b[1;36m0\u001b[0m\u001b[1;33m]\u001b[0m\u001b[1;33m,\u001b[0m\u001b[0mcontrol\u001b[0m\u001b[1;33m[\u001b[0m\u001b[0mc\u001b[0m\u001b[1;33m,\u001b[0m\u001b[1;36m1\u001b[0m\u001b[1;33m]\u001b[0m\u001b[1;33m,\u001b[0m\u001b[0mdt\u001b[0m\u001b[1;33m,\u001b[0m\u001b[0msigma_drive\u001b[0m\u001b[1;33m[\u001b[0m\u001b[1;36m0\u001b[0m\u001b[1;33m]\u001b[0m\u001b[1;33m,\u001b[0m\u001b[0msigma_drive\u001b[0m\u001b[1;33m[\u001b[0m\u001b[1;36m1\u001b[0m\u001b[1;33m]\u001b[0m\u001b[1;33m)\u001b[0m\u001b[1;33m\u001b[0m\u001b[1;33m\u001b[0m\u001b[0m\n\u001b[0;32m     52\u001b[0m         \u001b[0mslammer\u001b[0m\u001b[1;33m.\u001b[0m\u001b[0mpredict\u001b[0m\u001b[1;33m(\u001b[0m\u001b[0mdrive_signal\u001b[0m\u001b[1;33m)\u001b[0m\u001b[1;33m\u001b[0m\u001b[1;33m\u001b[0m\u001b[0m\n\u001b[1;32m---> 53\u001b[1;33m         \u001b[0mslammer\u001b[0m\u001b[1;33m.\u001b[0m\u001b[0mupdate\u001b[0m\u001b[1;33m(\u001b[0m\u001b[0mmeasurements\u001b[0m\u001b[1;33m[\u001b[0m\u001b[0mc\u001b[0m\u001b[1;33m]\u001b[0m\u001b[1;33m)\u001b[0m\u001b[1;33m\u001b[0m\u001b[1;33m\u001b[0m\u001b[0m\n\u001b[0m\u001b[0;32m     54\u001b[0m \u001b[1;33m\u001b[0m\u001b[0m\n\u001b[0;32m     55\u001b[0m         \u001b[0mmarker_cov\u001b[0m\u001b[1;33m.\u001b[0m\u001b[0mappend\u001b[0m\u001b[1;33m(\u001b[0m\u001b[0mslammer\u001b[0m\u001b[1;33m.\u001b[0m\u001b[0mP\u001b[0m\u001b[1;33m[\u001b[0m\u001b[1;36m3\u001b[0m\u001b[1;33m:\u001b[0m\u001b[1;33m,\u001b[0m\u001b[1;36m3\u001b[0m\u001b[1;33m:\u001b[0m\u001b[1;33m]\u001b[0m\u001b[1;33m)\u001b[0m\u001b[1;33m\u001b[0m\u001b[1;33m\u001b[0m\u001b[0m\n",
      "\u001b[1;32m<ipython-input-6-4e2df2eaba2b>\u001b[0m in \u001b[0;36mupdate\u001b[1;34m(self, measurements)\u001b[0m\n\u001b[0;32m     45\u001b[0m         \u001b[1;31m# Construct measurement index list\u001b[0m\u001b[1;33m\u001b[0m\u001b[1;33m\u001b[0m\u001b[1;33m\u001b[0m\u001b[0m\n\u001b[0;32m     46\u001b[0m         \u001b[0mtags\u001b[0m \u001b[1;33m=\u001b[0m \u001b[1;33m[\u001b[0m\u001b[0mlm\u001b[0m\u001b[1;33m.\u001b[0m\u001b[0mtag\u001b[0m \u001b[1;32mfor\u001b[0m \u001b[0mlm\u001b[0m \u001b[1;32min\u001b[0m \u001b[0mmeasurements\u001b[0m\u001b[1;33m]\u001b[0m\u001b[1;33m\u001b[0m\u001b[1;33m\u001b[0m\u001b[0m\n\u001b[1;32m---> 47\u001b[1;33m         \u001b[0midx_list\u001b[0m \u001b[1;33m=\u001b[0m \u001b[1;33m[\u001b[0m\u001b[0mself\u001b[0m\u001b[1;33m.\u001b[0m\u001b[0mtaglist\u001b[0m\u001b[1;33m.\u001b[0m\u001b[0mindex\u001b[0m\u001b[1;33m(\u001b[0m\u001b[0mtag\u001b[0m\u001b[1;33m)\u001b[0m \u001b[1;32mfor\u001b[0m \u001b[0mtag\u001b[0m \u001b[1;32min\u001b[0m \u001b[0mtags\u001b[0m\u001b[1;33m]\u001b[0m\u001b[1;33m\u001b[0m\u001b[1;33m\u001b[0m\u001b[0m\n\u001b[0m\u001b[0;32m     48\u001b[0m \u001b[1;33m\u001b[0m\u001b[0m\n\u001b[0;32m     49\u001b[0m         \u001b[1;31m# Stack measurements and set covariance\u001b[0m\u001b[1;33m\u001b[0m\u001b[1;33m\u001b[0m\u001b[1;33m\u001b[0m\u001b[0m\n",
      "\u001b[1;32m<ipython-input-6-4e2df2eaba2b>\u001b[0m in \u001b[0;36m<listcomp>\u001b[1;34m(.0)\u001b[0m\n\u001b[0;32m     45\u001b[0m         \u001b[1;31m# Construct measurement index list\u001b[0m\u001b[1;33m\u001b[0m\u001b[1;33m\u001b[0m\u001b[1;33m\u001b[0m\u001b[0m\n\u001b[0;32m     46\u001b[0m         \u001b[0mtags\u001b[0m \u001b[1;33m=\u001b[0m \u001b[1;33m[\u001b[0m\u001b[0mlm\u001b[0m\u001b[1;33m.\u001b[0m\u001b[0mtag\u001b[0m \u001b[1;32mfor\u001b[0m \u001b[0mlm\u001b[0m \u001b[1;32min\u001b[0m \u001b[0mmeasurements\u001b[0m\u001b[1;33m]\u001b[0m\u001b[1;33m\u001b[0m\u001b[1;33m\u001b[0m\u001b[0m\n\u001b[1;32m---> 47\u001b[1;33m         \u001b[0midx_list\u001b[0m \u001b[1;33m=\u001b[0m \u001b[1;33m[\u001b[0m\u001b[0mself\u001b[0m\u001b[1;33m.\u001b[0m\u001b[0mtaglist\u001b[0m\u001b[1;33m.\u001b[0m\u001b[0mindex\u001b[0m\u001b[1;33m(\u001b[0m\u001b[0mtag\u001b[0m\u001b[1;33m)\u001b[0m \u001b[1;32mfor\u001b[0m \u001b[0mtag\u001b[0m \u001b[1;32min\u001b[0m \u001b[0mtags\u001b[0m\u001b[1;33m]\u001b[0m\u001b[1;33m\u001b[0m\u001b[1;33m\u001b[0m\u001b[0m\n\u001b[0m\u001b[0;32m     48\u001b[0m \u001b[1;33m\u001b[0m\u001b[0m\n\u001b[0;32m     49\u001b[0m         \u001b[1;31m# Stack measurements and set covariance\u001b[0m\u001b[1;33m\u001b[0m\u001b[1;33m\u001b[0m\u001b[1;33m\u001b[0m\u001b[0m\n",
      "\u001b[1;31mValueError\u001b[0m: 0 is not in list"
     ]
    }
   ],
   "source": [
    "prediction_state, prediction_markers = run_slam(render=False)"
   ]
  },
  {
   "cell_type": "code",
   "execution_count": null,
   "metadata": {},
   "outputs": [],
   "source": []
  }
 ],
 "metadata": {
  "kernelspec": {
   "display_name": "Python 3",
   "language": "python",
   "name": "python3"
  },
  "language_info": {
   "codemirror_mode": {
    "name": "ipython",
    "version": 3
   },
   "file_extension": ".py",
   "mimetype": "text/x-python",
   "name": "python",
   "nbconvert_exporter": "python",
   "pygments_lexer": "ipython3",
   "version": "3.8.3"
  },
  "varInspector": {
   "cols": {
    "lenName": 16,
    "lenType": 16,
    "lenVar": 40
   },
   "kernels_config": {
    "python": {
     "delete_cmd_postfix": "",
     "delete_cmd_prefix": "del ",
     "library": "var_list.py",
     "varRefreshCmd": "print(var_dic_list())"
    },
    "r": {
     "delete_cmd_postfix": ") ",
     "delete_cmd_prefix": "rm(",
     "library": "var_list.r",
     "varRefreshCmd": "cat(var_dic_list()) "
    }
   },
   "types_to_exclude": [
    "module",
    "function",
    "builtin_function_or_method",
    "instance",
    "_Feature"
   ],
   "window_display": false
  }
 },
 "nbformat": 4,
 "nbformat_minor": 2
}
