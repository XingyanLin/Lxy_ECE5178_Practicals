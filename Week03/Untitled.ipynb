{
 "cells": [
  {
   "cell_type": "code",
   "execution_count": 1,
   "metadata": {},
   "outputs": [],
   "source": [
    "#Import all the dependencies\n",
    "\n",
    "%matplotlib notebook\n",
    "import matplotlib.pyplot as plt\n",
    "import matplotlib.animation as animation\n",
    "from matplotlib.lines import Line2D\n",
    "import numpy as np\n",
    "\n",
    "import sys\n",
    "import os\n",
    "sys.path.insert(0, os.path.abspath('Support'))\n",
    "\n",
    "from math_functions import *\n",
    "from Obstacle import *"
   ]
  },
  {
   "cell_type": "code",
   "execution_count": 2,
   "metadata": {},
   "outputs": [
    {
     "name": "stdout",
     "output_type": "stream",
     "text": [
      "<bound method Rectangle.__init__ of <Obstacle.Rectangle object at 0x000001F2822F3E50>>\n"
     ]
    }
   ],
   "source": [
    "obstacle1 = Rectangle(origin=np.array([10, 20]), width=30, height=5)\n",
    "print(obstacle1.__init__)"
   ]
  },
  {
   "cell_type": "code",
   "execution_count": 3,
   "metadata": {},
   "outputs": [
    {
     "name": "stdout",
     "output_type": "stream",
     "text": [
      "[]\n"
     ]
    }
   ],
   "source": [
    "boundary_points, goal_distances = [], []\n",
    "print(boundary_points)"
   ]
  },
  {
   "cell_type": "code",
   "execution_count": 4,
   "metadata": {},
   "outputs": [
    {
     "name": "stdout",
     "output_type": "stream",
     "text": [
      "range(20, 80, 15)\n",
      "4\n"
     ]
    }
   ],
   "source": [
    "wheel_velocities_range = range(20, 80, 15)\n",
    "num = len(wheel_velocities_range)\n",
    "print(wheel_velocities_range)\n",
    "print(num)"
   ]
  },
  {
   "cell_type": "code",
   "execution_count": 5,
   "metadata": {},
   "outputs": [
    {
     "name": "stdout",
     "output_type": "stream",
     "text": [
      "[30.0, 40.0]\n",
      "[[30.0, 40.0]]\n",
      "[30.0, 40.0]\n"
     ]
    }
   ],
   "source": [
    "initial_robot_pos = [30.0, 40.0]\n",
    " \n",
    "robot_path = [initial_robot_pos]\n",
    "current_robot_pos = initial_robot_pos\n",
    "print(initial_robot_pos)\n",
    "print(robot_path)\n",
    "print(current_robot_pos)"
   ]
  },
  {
   "cell_type": "code",
   "execution_count": 9,
   "metadata": {},
   "outputs": [
    {
     "name": "stdout",
     "output_type": "stream",
     "text": [
      "[ 0  1  2  3  4  5  6  7  8  9 10 11]\n",
      "[ 0  1  2  3  4  5  6  7  8  9 10 11]\n",
      "[[ 0  1  2  3]\n",
      " [ 4  5  6  7]\n",
      " [ 8  9 10 11]]\n",
      "[[ 0  1  2  3]\n",
      " [ 4  5  6  7]\n",
      " [ 8  9 10 11]]\n"
     ]
    }
   ],
   "source": [
    "a = np.arange(12)\n",
    "print(a)\n",
    "b=a #对象复制,a,b地址一样\n",
    "print(b)\n",
    "b.shape = 3,4 #a对象的shape也会变化\n",
    "print (a)\n",
    "print(b)"
   ]
  },
  {
   "cell_type": "code",
   "execution_count": 12,
   "metadata": {},
   "outputs": [
    {
     "name": "stdout",
     "output_type": "stream",
     "text": [
      "[[999 999 999 999]\n",
      " [999 999   6   7]\n",
      " [  8   9  10  11]]\n",
      "[[999 999 999 999]\n",
      " [999 999   6   7]\n",
      " [  8   9  10  11]]\n",
      "[[999 999 999 999 999 999]\n",
      " [  6   7   8   9  10  11]]\n"
     ]
    }
   ],
   "source": [
    "c = a.view()#c的引用地址变化了\n",
    "print(c)\n",
    "c.shape = 2,6 #a.shape不变,但是修改c的数据会导致a的数据也会变化\n",
    "c[0]=999\n",
    "print(a)\n",
    "print(c)"
   ]
  },
  {
   "cell_type": "code",
   "execution_count": 13,
   "metadata": {},
   "outputs": [
    {
     "name": "stdout",
     "output_type": "stream",
     "text": [
      "[ 0  1  2  3  4  5  6  7  8  9 10 11]\n",
      "[[ 0  1  2  3]\n",
      " [ 4  5  6  7]\n",
      " [ 8  9 10 11]]\n",
      "[[ 0  1  2  3]\n",
      " [ 4  5  6  7]\n",
      " [ 8  9 10 11]]\n",
      "[[ 0  1  2  3]\n",
      " [ 4  5  6  7]\n",
      " [ 8  9 10 11]]\n"
     ]
    }
   ],
   "source": [
    "a = np.arange(12)\n",
    "print(a)\n",
    "b=a #对象复制,a,b地址一样\n",
    "b.shape = 3,4 #a对象的shape也会变化\n",
    "print(b)\n",
    "\n",
    "d = a.copy()  #deep copy\n",
    "print(d)\n",
    "print(d)"
   ]
  },
  {
   "cell_type": "code",
   "execution_count": 17,
   "metadata": {},
   "outputs": [
    {
     "name": "stdout",
     "output_type": "stream",
     "text": [
      "(array([0, 5, 7], dtype=int64),)\n",
      "0\n"
     ]
    }
   ],
   "source": [
    "a = np.array([1,2,3,4,5,1,6,1]) \n",
    "print (np.where(a == a.min()))\n",
    "print (np.argmin(a))"
   ]
  },
  {
   "cell_type": "code",
   "execution_count": 18,
   "metadata": {},
   "outputs": [
    {
     "name": "stdout",
     "output_type": "stream",
     "text": [
      "20.0\n",
      "10.0\n"
     ]
    }
   ],
   "source": [
    "goal_pos = [20.0, 10.0]\n",
    "print(goal_pos[0])\n",
    "print(goal_pos[1])"
   ]
  },
  {
   "cell_type": "code",
   "execution_count": null,
   "metadata": {},
   "outputs": [],
   "source": []
  }
 ],
 "metadata": {
  "kernelspec": {
   "display_name": "Python 3",
   "language": "python",
   "name": "python3"
  },
  "language_info": {
   "codemirror_mode": {
    "name": "ipython",
    "version": 3
   },
   "file_extension": ".py",
   "mimetype": "text/x-python",
   "name": "python",
   "nbconvert_exporter": "python",
   "pygments_lexer": "ipython3",
   "version": "3.8.3"
  }
 },
 "nbformat": 4,
 "nbformat_minor": 4
}
