{
 "cells": [
  {
   "cell_type": "code",
   "execution_count": 32,
   "metadata": {},
   "outputs": [],
   "source": [
    "import numpy as np\n",
    "\n",
    "def get_front_wheel_location(rear_wheel_loc=np.zeros(2), theta=0, length=0):\n",
    "    \n",
    "    front_wheel_loc = np.zeros(2)\n",
    "    #----------------- Add your code here ----------------------\n",
    "    front_wheel_loc[0] = rear_wheel_loc[0] + length*np.cos(theta)\n",
    "    front_wheel_loc[1] = rear_wheel_loc[1] + length*np.sin(theta)\n",
    "        \n",
    "    #-----------------------------------------------------------\n",
    "    return front_wheel_loc"
   ]
  },
  {
   "cell_type": "code",
   "execution_count": 33,
   "metadata": {},
   "outputs": [
    {
     "name": "stdout",
     "output_type": "stream",
     "text": [
      "[1. 2.]\n"
     ]
    },
    {
     "data": {
      "text/plain": [
       "'front_wheel_loc = np.zeros(2)\\nprint(front_wheel_loc)\\nfront_wheel_loc[0] = 1\\nprint(front_wheel_loc)'"
      ]
     },
     "execution_count": 33,
     "metadata": {},
     "output_type": "execute_result"
    }
   ],
   "source": [
    "rear = [1,1]\n",
    "front = get_front_wheel_location(rear, np.pi/2, 1)\n",
    "print(front)\n",
    "'''front_wheel_loc = np.zeros(2)\n",
    "print(front_wheel_loc)\n",
    "front_wheel_loc[0] = 1\n",
    "print(front_wheel_loc)'''"
   ]
  },
  {
   "cell_type": "code",
   "execution_count": 40,
   "metadata": {},
   "outputs": [],
   "source": [
    "def get_bicycle_trajectory(initial_state = np.array([1, 1, 0, 0]), length=1, max_it=100, v=0, phi=0):\n",
    "    \n",
    "    dt = 0.05\n",
    "    states = np.zeros((max_it+1, initial_state.shape[0]))\n",
    "    states[0,:] = initial_state\n",
    "    \n",
    "    \n",
    "    #----------------- Add your code here ----------------------\n",
    "    \n",
    "    #-----------------------------------------------------------\n",
    "        \n",
    "    return states"
   ]
  },
  {
   "cell_type": "code",
   "execution_count": 41,
   "metadata": {},
   "outputs": [],
   "source": [
    "    initial_state = np.array([1, 1, 0, 0])\n",
    "    length=1\n",
    "    max_it=10\n",
    "    v=0\n",
    "    phi=0\n",
    "    dt = 0.05\n",
    "    states = np.zeros((max_it+1, initial_state.shape[0]))\n",
    "    states[0,:] = initial_state"
   ]
  },
  {
   "cell_type": "code",
   "execution_count": 49,
   "metadata": {},
   "outputs": [
    {
     "name": "stdout",
     "output_type": "stream",
     "text": [
      "[[1. 1. 0. 0.]\n",
      " [0. 0. 0. 0.]\n",
      " [0. 0. 0. 0.]\n",
      " [0. 0. 0. 0.]\n",
      " [0. 0. 0. 0.]\n",
      " [0. 0. 0. 0.]\n",
      " [0. 0. 0. 0.]\n",
      " [0. 0. 0. 0.]\n",
      " [0. 0. 0. 0.]\n",
      " [0. 0. 0. 0.]\n",
      " [0. 0. 0. 0.]]\n",
      "4\n"
     ]
    }
   ],
   "source": [
    "print(states)\n",
    "print(initial_state.shape[0])"
   ]
  },
  {
   "cell_type": "code",
   "execution_count": 51,
   "metadata": {},
   "outputs": [
    {
     "name": "stdout",
     "output_type": "stream",
     "text": [
      "1\n",
      "2\n",
      "3\n",
      "4\n",
      "5\n",
      "6\n",
      "7\n",
      "8\n",
      "9\n"
     ]
    }
   ],
   "source": [
    "max_it = 10\n",
    "for i in range(1,max_it):\n",
    "    # Compute next position\n",
    "    #next_x = x + v_x * dt\n",
    "    #next_y = y + v_y * dt\n",
    "    print(i)"
   ]
  },
  {
   "cell_type": "code",
   "execution_count": null,
   "metadata": {},
   "outputs": [],
   "source": []
  },
  {
   "cell_type": "code",
   "execution_count": null,
   "metadata": {},
   "outputs": [],
   "source": []
  }
 ],
 "metadata": {
  "kernelspec": {
   "display_name": "Python 3",
   "language": "python",
   "name": "python3"
  },
  "language_info": {
   "codemirror_mode": {
    "name": "ipython",
    "version": 3
   },
   "file_extension": ".py",
   "mimetype": "text/x-python",
   "name": "python",
   "nbconvert_exporter": "python",
   "pygments_lexer": "ipython3",
   "version": "3.8.3"
  }
 },
 "nbformat": 4,
 "nbformat_minor": 4
}
